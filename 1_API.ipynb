{
 "cells": [
  {
   "cell_type": "code",
   "execution_count": 1,
   "metadata": {},
   "outputs": [],
   "source": [
    "import requests"
   ]
  },
  {
   "cell_type": "code",
   "execution_count": 2,
   "metadata": {},
   "outputs": [],
   "source": [
    "url = \"https://randomuser.me/api\""
   ]
  },
  {
   "cell_type": "code",
   "execution_count": 6,
   "metadata": {},
   "outputs": [
    {
     "data": {
      "text/plain": [
       "{'results': [{'gender': 'female',\n",
       "   'name': {'title': 'Mrs', 'first': 'Susanna', 'last': 'Cox'},\n",
       "   'location': {'street': {'number': 3788, 'name': 'New Road'},\n",
       "    'city': 'New Ross',\n",
       "    'state': 'Cavan',\n",
       "    'country': 'Ireland',\n",
       "    'postcode': 59550,\n",
       "    'coordinates': {'latitude': '-2.1552', 'longitude': '121.0212'},\n",
       "    'timezone': {'offset': '+3:00',\n",
       "     'description': 'Baghdad, Riyadh, Moscow, St. Petersburg'}},\n",
       "   'email': 'susanna.cox@example.com',\n",
       "   'login': {'uuid': 'e29867b0-8b8e-4a68-861d-c9055fcd8c1a',\n",
       "    'username': 'ticklishpeacock633',\n",
       "    'password': 'alice1',\n",
       "    'salt': 'RF3OzFFA',\n",
       "    'md5': 'a4b9c9ce1129b9a5482955e92e2d87df',\n",
       "    'sha1': '71bb5ec9b1d19a69903da100c5041e4c66d08cf5',\n",
       "    'sha256': 'ebaef971b9be180513f7a976a011732eaec14b6af64fd5f15d9c5ab4fdd46695'},\n",
       "   'dob': {'date': '1945-10-03T08:51:57.808Z', 'age': 76},\n",
       "   'registered': {'date': '2008-11-19T14:57:08.881Z', 'age': 13},\n",
       "   'phone': '071-785-7063',\n",
       "   'cell': '081-191-1143',\n",
       "   'id': {'name': 'PPS', 'value': '8872444T'},\n",
       "   'picture': {'large': 'https://randomuser.me/api/portraits/women/31.jpg',\n",
       "    'medium': 'https://randomuser.me/api/portraits/med/women/31.jpg',\n",
       "    'thumbnail': 'https://randomuser.me/api/portraits/thumb/women/31.jpg'},\n",
       "   'nat': 'IE'}],\n",
       " 'info': {'seed': '122bb2062d6989f8',\n",
       "  'results': 1,\n",
       "  'page': 1,\n",
       "  'version': '1.4'}}"
      ]
     },
     "execution_count": 6,
     "metadata": {},
     "output_type": "execute_result"
    }
   ],
   "source": [
    "data = requests.get(url)\n",
    "# data\n",
    "data.json()"
   ]
  },
  {
   "cell_type": "code",
   "execution_count": 15,
   "metadata": {},
   "outputs": [],
   "source": [
    "gender =data.json()['results'][0]['gender']\n",
    "# gender"
   ]
  },
  {
   "cell_type": "code",
   "execution_count": 14,
   "metadata": {},
   "outputs": [],
   "source": [
    "name =data.json()['results'][0]['name']\n",
    "# name"
   ]
  },
  {
   "cell_type": "code",
   "execution_count": 13,
   "metadata": {},
   "outputs": [],
   "source": [
    "location =data.json()['results'][0]['location']\n",
    "# location"
   ]
  },
  {
   "cell_type": "code",
   "execution_count": 16,
   "metadata": {},
   "outputs": [
    {
     "data": {
      "text/plain": [
       "['female',\n",
       " {'title': 'Mrs', 'first': 'Susanna', 'last': 'Cox'},\n",
       " {'street': {'number': 3788, 'name': 'New Road'},\n",
       "  'city': 'New Ross',\n",
       "  'state': 'Cavan',\n",
       "  'country': 'Ireland',\n",
       "  'postcode': 59550,\n",
       "  'coordinates': {'latitude': '-2.1552', 'longitude': '121.0212'},\n",
       "  'timezone': {'offset': '+3:00',\n",
       "   'description': 'Baghdad, Riyadh, Moscow, St. Petersburg'}}]"
      ]
     },
     "execution_count": 16,
     "metadata": {},
     "output_type": "execute_result"
    }
   ],
   "source": [
    "a = [gender, name, location]\n",
    "a"
   ]
  }
 ],
 "metadata": {
  "kernelspec": {
   "display_name": "Python 3.9.6 64-bit",
   "language": "python",
   "name": "python3"
  },
  "language_info": {
   "codemirror_mode": {
    "name": "ipython",
    "version": 3
   },
   "file_extension": ".py",
   "mimetype": "text/x-python",
   "name": "python",
   "nbconvert_exporter": "python",
   "pygments_lexer": "ipython3",
   "version": "3.9.6"
  },
  "orig_nbformat": 4,
  "vscode": {
   "interpreter": {
    "hash": "966b0e9677715582968ff08d39d121a0f8b2fdf88b00be727b9743268e0f48b0"
   }
  }
 },
 "nbformat": 4,
 "nbformat_minor": 2
}
